{
  "nbformat": 4,
  "nbformat_minor": 0,
  "metadata": {
    "colab": {
      "provenance": [],
      "gpuType": "T4"
    },
    "kernelspec": {
      "name": "python3",
      "display_name": "Python 3"
    },
    "accelerator": "GPU"
  },
  "cells": [
    {
      "cell_type": "markdown",
      "source": [
        "# Upload images\n",
        "\n",
        "We are working with MRI images. The images were obtained from Kaggle (https://www.kaggle.com/datasets)\n",
        "\n",
        "Suggested course: https://www.udemy.com/share/104Yle3@O_YEUhppyRt5c9rx35o4ZEOSSoa4vbEuz_-ow1jiI7jIRxDs-_zURuthXwyu2-VMmQ==/"
      ],
      "metadata": {
        "id": "YlYwSU9mq5Uc"
      }
    },
    {
      "cell_type": "code",
      "source": [
        "from google.colab import drive\n",
        "drive.mount('/content/gdrive')"
      ],
      "metadata": {
        "id": "sLIB2Tj8GJrf",
        "colab": {
          "base_uri": "https://localhost:8080/"
        },
        "outputId": "73aa42e8-c493-4709-8975-35e0d0065150"
      },
      "execution_count": 1,
      "outputs": [
        {
          "output_type": "stream",
          "name": "stdout",
          "text": [
            "Mounted at /content/gdrive\n"
          ]
        }
      ]
    },
    {
      "cell_type": "code",
      "source": [
        "import zipfile\n",
        "!unzip \"/content/gdrive/MyDrive/ColabNotebooks_PegahKhosravi/Summer_2023/Data_Brain.zip\" -d data"
      ],
      "metadata": {
        "id": "QQnMkeTxQJL2"
      },
      "execution_count": null,
      "outputs": []
    },
    {
      "cell_type": "code",
      "source": [
        "!rm -rf '/content/data/__MACOSX'"
      ],
      "metadata": {
        "id": "ZgUKFwZCXES4"
      },
      "execution_count": 3,
      "outputs": []
    },
    {
      "cell_type": "code",
      "source": [
        "#Load libraries\n",
        "import os\n",
        "import numpy as np\n",
        "import torch\n",
        "import glob\n",
        "import torch.nn as nn\n",
        "from torchvision.transforms import transforms\n",
        "from torch.utils.data import DataLoader\n",
        "from torch.optim import Adam\n",
        "from torch.autograd import Variable\n",
        "import torchvision\n",
        "import pathlib"
      ],
      "metadata": {
        "id": "XMkOOZD0PYAu"
      },
      "execution_count": 4,
      "outputs": []
    },
    {
      "cell_type": "code",
      "source": [
        "#checking for device\n",
        "device=torch.device('cuda' if torch.cuda.is_available() else 'cpu')"
      ],
      "metadata": {
        "id": "RCokUvYEPg9m"
      },
      "execution_count": 5,
      "outputs": []
    },
    {
      "cell_type": "code",
      "source": [
        "print(device)"
      ],
      "metadata": {
        "id": "rNCi6CfaPj6t",
        "colab": {
          "base_uri": "https://localhost:8080/"
        },
        "outputId": "60c3ec18-1e93-4659-f18c-7d1f9db88d86"
      },
      "execution_count": 6,
      "outputs": [
        {
          "output_type": "stream",
          "name": "stdout",
          "text": [
            "cuda\n"
          ]
        }
      ]
    },
    {
      "cell_type": "code",
      "source": [
        "#Transforms\n",
        "transformer=transforms.Compose([\n",
        "    transforms.Resize((150,150)),\n",
        "    transforms.RandomHorizontalFlip(),\n",
        "    transforms.ToTensor(),  #0-255 to 0-1, numpy to tensors\n",
        "    transforms.Normalize([0.5,0.5,0.5], # 0-1 to [-1,1] , formula (x-mean)/std\n",
        "                        [0.5,0.5,0.5])\n",
        "])"
      ],
      "metadata": {
        "id": "XsVBXgfs_Ry2"
      },
      "execution_count": 7,
      "outputs": []
    },
    {
      "cell_type": "code",
      "source": [
        "#Dataloader\n",
        "\n",
        "#Path for training and validation directory\n",
        "train_path=\"/content/data/Data_Brain/training\"\n",
        "validation_path=\"/content/data/Data_Brain/validation\"\n",
        "\n",
        "train_loader=DataLoader(\n",
        "    torchvision.datasets.ImageFolder(train_path,transform=transformer),\n",
        "    batch_size=128, shuffle=True\n",
        ")\n",
        "validation_loader=DataLoader(\n",
        "    torchvision.datasets.ImageFolder(validation_path,transform=transformer),\n",
        "    batch_size=64, shuffle=True\n",
        ")"
      ],
      "metadata": {
        "id": "yMvgAJZQPo2Y"
      },
      "execution_count": 8,
      "outputs": []
    },
    {
      "cell_type": "code",
      "source": [
        "#categories\n",
        "root=pathlib.Path(train_path)\n",
        "classes=sorted([j.name.split('/')[-1] for j in root.iterdir()])"
      ],
      "metadata": {
        "id": "Z6-mtBaPSh1P"
      },
      "execution_count": 17,
      "outputs": []
    },
    {
      "cell_type": "code",
      "source": [
        "!rm \"/content/data/Data_Brain/validation/.DS_Store\""
      ],
      "metadata": {
        "id": "gpQn_FMGky2q",
        "colab": {
          "base_uri": "https://localhost:8080/"
        },
        "outputId": "dc8d2444-891d-42a9-9fee-d7e843d8e681"
      },
      "execution_count": 18,
      "outputs": [
        {
          "output_type": "stream",
          "name": "stdout",
          "text": [
            "rm: cannot remove '/content/data/Data_Brain/validation/.DS_Store': No such file or directory\n"
          ]
        }
      ]
    },
    {
      "cell_type": "code",
      "source": [
        "print(classes)"
      ],
      "metadata": {
        "id": "j1ba_us9Kg-0",
        "colab": {
          "base_uri": "https://localhost:8080/"
        },
        "outputId": "88a39e9a-d830-415a-aa16-b27121e7234c"
      },
      "execution_count": 19,
      "outputs": [
        {
          "output_type": "stream",
          "name": "stdout",
          "text": [
            "['NoTumor', 'Tumor']\n"
          ]
        }
      ]
    },
    {
      "cell_type": "code",
      "source": [
        "#Transforms\n",
        "transformer=transforms.Compose([\n",
        "    transforms.Resize((150,150)),\n",
        "    transforms.RandomHorizontalFlip(),\n",
        "    transforms.ToTensor(),  #0-255 to 0-1, numpy to tensors\n",
        "    transforms.Normalize([0.5,0.5,0.5], # 0-1 to [-1,1] , formula (x-mean)/std\n",
        "                        [0.5,0.5,0.5])\n",
        "])"
      ],
      "metadata": {
        "id": "3iuQ6X5OPmpT"
      },
      "execution_count": 20,
      "outputs": []
    },
    {
      "cell_type": "code",
      "source": [
        "# March 17 by here\n",
        "#CNN Network\n",
        "\n",
        "\n",
        "class ConvNet(nn.Module):\n",
        "    def __init__(self,num_classes=2):\n",
        "        super(ConvNet,self).__init__()\n",
        "\n",
        "        #Output size after convolution filter\n",
        "        #((w-f+2P)/s) +1\n",
        "\n",
        "        #Input shape= (256,3,150,150)\n",
        "\n",
        "        self.conv1=nn.Conv2d(in_channels=3,out_channels=12,kernel_size=3,stride=1,padding=1)\n",
        "        #Shape= (256,12,150,150)\n",
        "        self.bn1=nn.BatchNorm2d(num_features=12)\n",
        "        #Shape= (256,12,150,150)\n",
        "        self.relu1=nn.ReLU()\n",
        "        #Shape= (256,12,150,150)\n",
        "\n",
        "        self.pool=nn.MaxPool2d(kernel_size=2)\n",
        "        #Reduce the image size be factor 2\n",
        "        #Shape= (256,12,75,75)\n",
        "\n",
        "\n",
        "        self.conv2=nn.Conv2d(in_channels=12,out_channels=20,kernel_size=3,stride=1,padding=1)\n",
        "        #Shape= (256,20,75,75)\n",
        "        self.relu2=nn.ReLU()\n",
        "        #Shape= (256,20,75,75)\n",
        "\n",
        "\n",
        "\n",
        "        self.conv3=nn.Conv2d(in_channels=20,out_channels=32,kernel_size=3,stride=1,padding=1)\n",
        "        #Shape= (256,32,75,75)\n",
        "        self.bn3=nn.BatchNorm2d(num_features=32)\n",
        "        #Shape= (256,32,75,75)\n",
        "        self.relu3=nn.ReLU()\n",
        "        #Shape= (256,32,75,75)\n",
        "\n",
        "\n",
        "        self.fc=nn.Linear(in_features=75 * 75 * 32,out_features=num_classes)\n",
        "\n",
        "\n",
        "\n",
        "        #Feed forwad function\n",
        "\n",
        "    def forward(self,input):\n",
        "        output=self.conv1(input)\n",
        "        output=self.bn1(output)\n",
        "        output=self.relu1(output)\n",
        "\n",
        "        output=self.pool(output)\n",
        "\n",
        "        output=self.conv2(output)\n",
        "        output=self.relu2(output)\n",
        "\n",
        "        output=self.conv3(output)\n",
        "        output=self.bn3(output)\n",
        "        output=self.relu3(output)\n",
        "\n",
        "\n",
        "            #Above output will be in matrix form, with shape (256,32,75,75)\n",
        "\n",
        "        output=output.view(-1,32*75*75)\n",
        "\n",
        "\n",
        "        output=self.fc(output)\n",
        "\n",
        "        return output"
      ],
      "metadata": {
        "id": "1ZNZD42US7Ay"
      },
      "execution_count": 21,
      "outputs": []
    },
    {
      "cell_type": "code",
      "source": [
        "model=ConvNet(num_classes=2).to(device)"
      ],
      "metadata": {
        "id": "_e57jOvfTBkC"
      },
      "execution_count": 22,
      "outputs": []
    },
    {
      "cell_type": "code",
      "source": [
        "from torch.optim.rmsprop import RMSprop\n",
        "#Optmizer and loss function\n",
        "optimizer=RMSprop(model.parameters(),lr=0.0001,weight_decay=0.00001)\n",
        "loss_function=nn.CrossEntropyLoss()"
      ],
      "metadata": {
        "id": "qaVndD1vTceM"
      },
      "execution_count": 23,
      "outputs": []
    },
    {
      "cell_type": "code",
      "source": [
        "num_epochs=10"
      ],
      "metadata": {
        "id": "4VqtmczrTe9f"
      },
      "execution_count": 24,
      "outputs": []
    },
    {
      "cell_type": "code",
      "source": [
        "#calculating the size of training and testing images\n",
        "train_count=len(glob.glob(train_path+'/**/*.png'))\n",
        "validation_count=len(glob.glob(validation_path+'/**/*.png'))\n",
        "#test_count=len(glob.glob(test_path+'/**/*.png'))"
      ],
      "metadata": {
        "id": "iFZCkhPTThGr"
      },
      "execution_count": 25,
      "outputs": []
    },
    {
      "cell_type": "code",
      "source": [
        "print(train_count,validation_count)"
      ],
      "metadata": {
        "id": "cvot-HH2T9Mc",
        "colab": {
          "base_uri": "https://localhost:8080/"
        },
        "outputId": "b21262b8-e15d-4a14-a93a-d5f2665a3852"
      },
      "execution_count": 26,
      "outputs": [
        {
          "output_type": "stream",
          "name": "stdout",
          "text": [
            "838 60\n"
          ]
        }
      ]
    },
    {
      "cell_type": "code",
      "source": [
        "#Model training and saving best model\n",
        "\n",
        "best_accuracy=0.0\n",
        "\n",
        "for epoch in range(num_epochs):\n",
        "\n",
        "    #Evaluation and training on training dataset\n",
        "    model.train()\n",
        "    train_accuracy=0.0\n",
        "    train_loss=0.0\n",
        "\n",
        "    for i, (images,labels) in enumerate(train_loader):\n",
        "        if torch.cuda.is_available():\n",
        "            images=Variable(images.cuda())\n",
        "            labels=Variable(labels.cuda())\n",
        "\n",
        "        optimizer.zero_grad()\n",
        "\n",
        "        outputs=model(images)\n",
        "        loss=loss_function(outputs,labels)\n",
        "        loss.backward()\n",
        "        optimizer.step()\n",
        "\n",
        "\n",
        "        train_loss+= loss.cpu().data*images.size(0)\n",
        "        _,prediction=torch.max(outputs.data,1)\n",
        "\n",
        "        train_accuracy+=int(torch.sum(prediction==labels.data))\n",
        "\n",
        "    train_accuracy=train_accuracy/train_count\n",
        "    train_loss=train_loss/train_count\n",
        "\n",
        "\n",
        "    # Evaluation on testing dataset\n",
        "    model.eval()\n",
        "\n",
        "    validation_accuracy=0.0\n",
        "    for i, (images,labels) in enumerate(validation_loader):\n",
        "        if torch.cuda.is_available():\n",
        "            images=Variable(images.cuda())\n",
        "            labels=Variable(labels.cuda())\n",
        "\n",
        "        outputs=model(images)\n",
        "        _,prediction=torch.max(outputs.data,1)\n",
        "        validation_accuracy+=int(torch.sum(prediction==labels.data))\n",
        "\n",
        "    validation_accuracy=validation_accuracy/validation_count\n",
        "\n",
        "\n",
        "    print('Epoch: '+str(epoch)+' Train Loss: '+str(train_loss)+' Train Accuracy: '+str(train_accuracy)+' Validation Accuracy: '+str(validation_accuracy))\n",
        "\n",
        "    #Save the best model\n",
        "    if validation_accuracy>best_accuracy:\n",
        "        torch.save(model.state_dict(),'best_checkpoint.model')\n",
        "        best_accuracy=validation_accuracy"
      ],
      "metadata": {
        "id": "xXJmaaRoT_nq",
        "colab": {
          "base_uri": "https://localhost:8080/"
        },
        "outputId": "7ab79db9-d3ce-4df7-a745-f53cf1bc1a23"
      },
      "execution_count": 27,
      "outputs": [
        {
          "output_type": "stream",
          "name": "stdout",
          "text": [
            "Epoch: 0 Train Loss: tensor(15.6452) Train Accuracy: 0.6157517899761337 Validation Accuracy: 0.5666666666666667\n",
            "Epoch: 1 Train Loss: tensor(3.6145) Train Accuracy: 0.7219570405727923 Validation Accuracy: 0.5\n",
            "Epoch: 2 Train Loss: tensor(3.3026) Train Accuracy: 0.7183770883054893 Validation Accuracy: 0.5\n",
            "Epoch: 3 Train Loss: tensor(1.6841) Train Accuracy: 0.788782816229117 Validation Accuracy: 0.6\n",
            "Epoch: 4 Train Loss: tensor(1.8109) Train Accuracy: 0.7350835322195705 Validation Accuracy: 0.55\n",
            "Epoch: 5 Train Loss: tensor(0.4372) Train Accuracy: 0.8842482100238663 Validation Accuracy: 0.75\n",
            "Epoch: 6 Train Loss: tensor(0.2451) Train Accuracy: 0.9272076372315036 Validation Accuracy: 0.8166666666666667\n",
            "Epoch: 7 Train Loss: tensor(0.4174) Train Accuracy: 0.8782816229116945 Validation Accuracy: 0.6166666666666667\n",
            "Epoch: 8 Train Loss: tensor(0.6420) Train Accuracy: 0.8365155131264916 Validation Accuracy: 0.6\n",
            "Epoch: 9 Train Loss: tensor(0.3636) Train Accuracy: 0.9009546539379475 Validation Accuracy: 0.7666666666666667\n"
          ]
        }
      ]
    },
    {
      "cell_type": "code",
      "source": [
        "import torch\n",
        "import torch.nn as nn\n",
        "from torchvision.transforms import transforms\n",
        "import numpy as np\n",
        "from torch.autograd import Variable\n",
        "from torchvision.models import squeezenet1_1\n",
        "import torch.functional as F\n",
        "from io import open\n",
        "import os\n",
        "from PIL import Image\n",
        "import pathlib\n",
        "import glob\n",
        "import cv2"
      ],
      "metadata": {
        "id": "pHw5vC6jZ9XK"
      },
      "execution_count": 28,
      "outputs": []
    },
    {
      "cell_type": "code",
      "source": [
        "train_path=\"/content/data/Data_Brain/training\"\n",
        "pred_path=\"/content/data/Data_Brain/test\""
      ],
      "metadata": {
        "id": "25EBBUEmaBdg"
      },
      "execution_count": 29,
      "outputs": []
    },
    {
      "cell_type": "code",
      "source": [
        "test_count=len(glob.glob(pred_path+'/*.png'))"
      ],
      "metadata": {
        "id": "uTuN1mJhrDk3"
      },
      "execution_count": 30,
      "outputs": []
    },
    {
      "cell_type": "code",
      "source": [
        "print(test_count)"
      ],
      "metadata": {
        "colab": {
          "base_uri": "https://localhost:8080/"
        },
        "id": "sVvwpuk7rKxC",
        "outputId": "1208c785-22a2-4792-dba6-bed182cb20c6"
      },
      "execution_count": 31,
      "outputs": [
        {
          "output_type": "stream",
          "name": "stdout",
          "text": [
            "50\n"
          ]
        }
      ]
    },
    {
      "cell_type": "code",
      "source": [
        "#categories\n",
        "root=pathlib.Path(train_path)\n",
        "classes=sorted([j.name.split('/')[-1] for j in root.iterdir()])"
      ],
      "metadata": {
        "id": "BYzdVlXTa1UV"
      },
      "execution_count": 32,
      "outputs": []
    },
    {
      "cell_type": "code",
      "source": [
        "#CNN Network\n",
        "\n",
        "\n",
        "class ConvNet(nn.Module):\n",
        "    def __init__(self,num_classes=2):\n",
        "        super(ConvNet,self).__init__()\n",
        "\n",
        "        #Output size after convolution filter\n",
        "        #((w-f+2P)/s) +1\n",
        "\n",
        "        #Input shape= (256,3,150,150)\n",
        "\n",
        "        self.conv1=nn.Conv2d(in_channels=3,out_channels=12,kernel_size=3,stride=1,padding=1)\n",
        "        #Shape= (256,12,150,150)\n",
        "        self.bn1=nn.BatchNorm2d(num_features=12)\n",
        "        #Shape= (256,12,150,150)\n",
        "        self.relu1=nn.ReLU()\n",
        "        #Shape= (256,12,150,150)\n",
        "\n",
        "        self.pool=nn.MaxPool2d(kernel_size=2)\n",
        "        #Reduce the image size be factor 2\n",
        "        #Shape= (256,12,75,75)\n",
        "\n",
        "\n",
        "        self.conv2=nn.Conv2d(in_channels=12,out_channels=20,kernel_size=3,stride=1,padding=1)\n",
        "        #Shape= (256,20,75,75)\n",
        "        self.relu2=nn.ReLU()\n",
        "        #Shape= (256,20,75,75)\n",
        "\n",
        "\n",
        "\n",
        "        self.conv3=nn.Conv2d(in_channels=20,out_channels=32,kernel_size=3,stride=1,padding=1)\n",
        "        #Shape= (256,32,75,75)\n",
        "        self.bn3=nn.BatchNorm2d(num_features=32)\n",
        "        #Shape= (256,32,75,75)\n",
        "        self.relu3=nn.ReLU()\n",
        "        #Shape= (256,32,75,75)\n",
        "\n",
        "\n",
        "        self.fc=nn.Linear(in_features=75 * 75 * 32,out_features=num_classes)\n",
        "\n",
        "\n",
        "\n",
        "        #Feed forwad function\n",
        "\n",
        "    def forward(self,input):\n",
        "        output=self.conv1(input)\n",
        "        output=self.bn1(output)\n",
        "        output=self.relu1(output)\n",
        "\n",
        "        output=self.pool(output)\n",
        "\n",
        "        output=self.conv2(output)\n",
        "        output=self.relu2(output)\n",
        "\n",
        "        output=self.conv3(output)\n",
        "        output=self.bn3(output)\n",
        "        output=self.relu3(output)\n",
        "\n",
        "\n",
        "            #Above output will be in matrix form, with shape (256,32,75,75)\n",
        "\n",
        "        output=output.view(-1,32*75*75)\n",
        "\n",
        "\n",
        "        output=self.fc(output)\n",
        "\n",
        "        return output"
      ],
      "metadata": {
        "id": "Od_7_ROia2vr"
      },
      "execution_count": 33,
      "outputs": []
    },
    {
      "cell_type": "code",
      "source": [
        "checkpoint=torch.load(\"best_checkpoint.model\")\n",
        "model=ConvNet(num_classes=2)\n",
        "model.load_state_dict(checkpoint)\n",
        "model.eval()"
      ],
      "metadata": {
        "id": "pDJilSVXa9oG",
        "colab": {
          "base_uri": "https://localhost:8080/"
        },
        "outputId": "5b3518de-eea8-4610-ed8d-5d9b38fe144d"
      },
      "execution_count": 34,
      "outputs": [
        {
          "output_type": "execute_result",
          "data": {
            "text/plain": [
              "ConvNet(\n",
              "  (conv1): Conv2d(3, 12, kernel_size=(3, 3), stride=(1, 1), padding=(1, 1))\n",
              "  (bn1): BatchNorm2d(12, eps=1e-05, momentum=0.1, affine=True, track_running_stats=True)\n",
              "  (relu1): ReLU()\n",
              "  (pool): MaxPool2d(kernel_size=2, stride=2, padding=0, dilation=1, ceil_mode=False)\n",
              "  (conv2): Conv2d(12, 20, kernel_size=(3, 3), stride=(1, 1), padding=(1, 1))\n",
              "  (relu2): ReLU()\n",
              "  (conv3): Conv2d(20, 32, kernel_size=(3, 3), stride=(1, 1), padding=(1, 1))\n",
              "  (bn3): BatchNorm2d(32, eps=1e-05, momentum=0.1, affine=True, track_running_stats=True)\n",
              "  (relu3): ReLU()\n",
              "  (fc): Linear(in_features=180000, out_features=2, bias=True)\n",
              ")"
            ]
          },
          "metadata": {},
          "execution_count": 34
        }
      ]
    },
    {
      "cell_type": "code",
      "source": [
        "#Transforms\n",
        "transformer=transforms.Compose([\n",
        "    transforms.Resize((150,150)),\n",
        "    transforms.ToTensor(),  #0-255 to 0-1, numpy to tensors\n",
        "    transforms.Normalize([0.5,0.5,0.5], # 0-1 to [-1,1] , formula (x-mean)/std\n",
        "                        [0.5,0.5,0.5])\n",
        "])"
      ],
      "metadata": {
        "id": "iL2JtTwcbLZu"
      },
      "execution_count": 35,
      "outputs": []
    },
    {
      "cell_type": "code",
      "source": [
        "#prediction function\n",
        "def prediction(img_path,transformer):\n",
        "\n",
        "    image=Image.open(img_path)\n",
        "\n",
        "    image_tensor=transformer(image).float()\n",
        "\n",
        "\n",
        "    image_tensor=image_tensor.unsqueeze_(0)\n",
        "\n",
        "    if torch.cuda.is_available():\n",
        "        image_tensor.cuda()\n",
        "\n",
        "    input=Variable(image_tensor)\n",
        "\n",
        "\n",
        "    output=model(input)\n",
        "\n",
        "    index=output.data.numpy().argmax()\n",
        "\n",
        "    pred=classes[index]\n",
        "\n",
        "    return pred"
      ],
      "metadata": {
        "id": "N_n0UfjAbQXy"
      },
      "execution_count": 36,
      "outputs": []
    },
    {
      "cell_type": "code",
      "source": [
        "images_path=glob.glob(pred_path+'/*.png')"
      ],
      "metadata": {
        "id": "SYgWS1Etbtsh"
      },
      "execution_count": 37,
      "outputs": []
    },
    {
      "cell_type": "code",
      "source": [
        "pred_dict={}\n",
        "\n",
        "for i in images_path:\n",
        "    pred_dict[i[i.rfind('/')+1:]]=prediction(i,transformer)"
      ],
      "metadata": {
        "id": "Rr_w14J4bv0x"
      },
      "execution_count": 38,
      "outputs": []
    },
    {
      "cell_type": "code",
      "source": [
        "pred_dict"
      ],
      "metadata": {
        "id": "RwfzqwnSby6o",
        "colab": {
          "base_uri": "https://localhost:8080/"
        },
        "outputId": "62766df6-2c53-4465-fcf6-9720521b0758"
      },
      "execution_count": 39,
      "outputs": [
        {
          "output_type": "execute_result",
          "data": {
            "text/plain": [
              "{'N_2_NoTumor_98.png': 'Tumor',\n",
              " 'T_YesTumor04.png': 'Tumor',\n",
              " 'N_NoTumor_2.png': 'NoTumor',\n",
              " 'T_GliomaTumor_20.png': 'Tumor',\n",
              " 'T_GliomaTumor_24.png': 'Tumor',\n",
              " 'N_NoTumor_8.png': 'NoTumor',\n",
              " 'N_NoTumor_6.png': 'NoTumor',\n",
              " 'T_Tr_PituitaryTumor_796.png': 'Tumor',\n",
              " 'N_NoTumor33.png': 'NoTumor',\n",
              " 'T_Tr_PituitaryTumor_740.png': 'Tumor',\n",
              " 'T_GliomaTumor_66.png': 'Tumor',\n",
              " 'N_NoTumor30.png': 'Tumor',\n",
              " 'N_NoTumor_18.png': 'Tumor',\n",
              " 'N_NoTumor_13.png': 'NoTumor',\n",
              " 'T_Tr_PituitaryTumor_783.png': 'Tumor',\n",
              " 'N_NoTumor_4.png': 'Tumor',\n",
              " 'T_MeningiomaTumor_3.png': 'NoTumor',\n",
              " 'T_YesTumor01.png': 'Tumor',\n",
              " 'N_NoTumor_1.png': 'NoTumor',\n",
              " 'N_2_PituitaryTumor_22.png': 'Tumor',\n",
              " 'T_YesTumor05.png': 'Tumor',\n",
              " 'N_NoTumor32.png': 'NoTumor',\n",
              " 'T_YesTumor02.png': 'NoTumor',\n",
              " 'T_GliomaTumor_18.png': 'NoTumor',\n",
              " 'T_MeningiomaTumor_2.png': 'Tumor',\n",
              " 'N_2_PituitaryTumor_564.png': 'Tumor',\n",
              " 'T_MeningiomaTumor_.png': 'NoTumor',\n",
              " 'N_2_NoTumor_76.png': 'Tumor',\n",
              " 'T_MeningiomaTumor_17.png': 'Tumor',\n",
              " 'T_Tr_PituitaryTumor_795.png': 'Tumor',\n",
              " 'N_NoTumor31.png': 'NoTumor',\n",
              " 'T_GliomaTumor_67.png': 'Tumor',\n",
              " 'N_2_PituitaryTumor_638.png': 'Tumor',\n",
              " 'T_GliomaTumor_78.png': 'NoTumor',\n",
              " 'T_GliomaTumor_3.png': 'NoTumor',\n",
              " 'N_2_PituitaryTumor_628.png': 'Tumor',\n",
              " 'N_2_NoTumor_89.png': 'NoTumor',\n",
              " 'N_NoTumor_14.png': 'NoTumor',\n",
              " 'T_GliomaTumor_76.png': 'Tumor',\n",
              " 'T_GliomaTumor_8.png': 'Tumor',\n",
              " 'T_Tr_PituitaryTumor_784.png': 'Tumor',\n",
              " 'T_GliomaTumor_75.png': 'Tumor',\n",
              " 'N_NoTumor_3.png': 'NoTumor',\n",
              " 'N_2_NoTumor_71.png': 'Tumor',\n",
              " 'N_2_PituitaryTumor_21.png': 'Tumor',\n",
              " 'N_NoTumor_12.png': 'Tumor',\n",
              " 'N_2_NoTumor_103.png': 'NoTumor',\n",
              " 'N_NoTumor34.png': 'Tumor',\n",
              " 'T_MeningiomaTumor_7.png': 'Tumor',\n",
              " 'T_YesTumor03.png': 'Tumor'}"
            ]
          },
          "metadata": {},
          "execution_count": 39
        }
      ]
    },
    {
      "cell_type": "code",
      "source": [
        "import csv\n",
        "\n",
        "output_dict = {'N_2_NoTumor_98.png': 'Tumor',\n",
        " 'T_YesTumor04.png': 'Tumor',\n",
        " 'N_NoTumor_2.png': 'NoTumor',\n",
        " 'T_GliomaTumor_20.png': 'Tumor',\n",
        " 'T_GliomaTumor_24.png': 'Tumor',\n",
        " 'N_NoTumor_8.png': 'NoTumor',\n",
        " 'N_NoTumor_6.png': 'NoTumor',\n",
        " 'T_Tr_PituitaryTumor_796.png': 'Tumor',\n",
        " 'N_NoTumor33.png': 'NoTumor',\n",
        " 'T_Tr_PituitaryTumor_740.png': 'Tumor',\n",
        " 'T_GliomaTumor_66.png': 'Tumor',\n",
        " 'N_NoTumor30.png': 'Tumor',\n",
        " 'N_NoTumor_18.png': 'Tumor',\n",
        " 'N_NoTumor_13.png': 'NoTumor',\n",
        " 'T_Tr_PituitaryTumor_783.png': 'Tumor',\n",
        " 'N_NoTumor_4.png': 'Tumor',\n",
        " 'T_MeningiomaTumor_3.png': 'NoTumor',\n",
        " 'T_YesTumor01.png': 'Tumor',\n",
        " 'N_NoTumor_1.png': 'NoTumor',\n",
        " 'N_2_PituitaryTumor_22.png': 'Tumor',\n",
        " 'T_YesTumor05.png': 'Tumor',\n",
        " 'N_NoTumor32.png': 'NoTumor',\n",
        " 'T_YesTumor02.png': 'NoTumor',\n",
        " 'T_GliomaTumor_18.png': 'NoTumor',\n",
        " 'T_MeningiomaTumor_2.png': 'Tumor',\n",
        " 'N_2_PituitaryTumor_564.png': 'Tumor',\n",
        " 'T_MeningiomaTumor_.png': 'NoTumor',\n",
        " 'N_2_NoTumor_76.png': 'Tumor',\n",
        " 'T_MeningiomaTumor_17.png': 'Tumor',\n",
        " 'T_Tr_PituitaryTumor_795.png': 'Tumor',\n",
        " 'N_NoTumor31.png': 'NoTumor',\n",
        " 'T_GliomaTumor_67.png': 'Tumor',\n",
        " 'N_2_PituitaryTumor_638.png': 'Tumor',\n",
        " 'T_GliomaTumor_78.png': 'NoTumor',\n",
        " 'T_GliomaTumor_3.png': 'NoTumor',\n",
        " 'N_2_PituitaryTumor_628.png': 'Tumor',\n",
        " 'N_2_NoTumor_89.png': 'NoTumor',\n",
        " 'N_NoTumor_14.png': 'NoTumor',\n",
        " 'T_GliomaTumor_76.png': 'Tumor',\n",
        " 'T_GliomaTumor_8.png': 'Tumor',\n",
        " 'T_Tr_PituitaryTumor_784.png': 'Tumor',\n",
        " 'T_GliomaTumor_75.png': 'Tumor',\n",
        " 'N_NoTumor_3.png': 'NoTumor',\n",
        " 'N_2_NoTumor_71.png': 'Tumor',\n",
        " 'N_2_PituitaryTumor_21.png': 'Tumor',\n",
        " 'N_NoTumor_12.png': 'Tumor',\n",
        " 'N_2_NoTumor_103.png': 'NoTumor',\n",
        " 'N_NoTumor34.png': 'Tumor',\n",
        " 'T_MeningiomaTumor_7.png': 'Tumor',\n",
        " 'T_YesTumor03.png': 'Tumor'}\n",
        "\n",
        "# open file\n",
        "with open(\"filename.csv\", \"w\") as file:\n",
        "    csvwriter = csv.writer(file)\n",
        "\n",
        "    # write header to file\n",
        "    csvwriter.writerow([\"Label\", \"Predict\"])\n",
        "\n",
        "    # write results to csv\n",
        "    for key in output_dict.keys():\n",
        "        row = \"\"\n",
        "        if key[0] == \"N\":\n",
        "            row+=\"1\"\n",
        "        else:\n",
        "            row+=\"0\"\n",
        "        if output_dict[key] == \"NoTumor\":\n",
        "            row+=\"1\"\n",
        "        else:\n",
        "            row+=\"0\"\n",
        "        csvwriter.writerow(row)"
      ],
      "metadata": {
        "id": "UP6dKTwIHxAP"
      },
      "execution_count": 40,
      "outputs": []
    },
    {
      "cell_type": "code",
      "source": [
        "from torchsummary import summary\n",
        "\n",
        "model=model.cuda()\n",
        "\n",
        "summary(model, (3,150,150))"
      ],
      "metadata": {
        "id": "FLWe6A-_MNqp",
        "colab": {
          "base_uri": "https://localhost:8080/"
        },
        "outputId": "e6db96ce-0f0d-4bbc-f10d-54326a734640"
      },
      "execution_count": 41,
      "outputs": [
        {
          "output_type": "stream",
          "name": "stdout",
          "text": [
            "----------------------------------------------------------------\n",
            "        Layer (type)               Output Shape         Param #\n",
            "================================================================\n",
            "            Conv2d-1         [-1, 12, 150, 150]             336\n",
            "       BatchNorm2d-2         [-1, 12, 150, 150]              24\n",
            "              ReLU-3         [-1, 12, 150, 150]               0\n",
            "         MaxPool2d-4           [-1, 12, 75, 75]               0\n",
            "            Conv2d-5           [-1, 20, 75, 75]           2,180\n",
            "              ReLU-6           [-1, 20, 75, 75]               0\n",
            "            Conv2d-7           [-1, 32, 75, 75]           5,792\n",
            "       BatchNorm2d-8           [-1, 32, 75, 75]              64\n",
            "              ReLU-9           [-1, 32, 75, 75]               0\n",
            "           Linear-10                    [-1, 2]         360,002\n",
            "================================================================\n",
            "Total params: 368,398\n",
            "Trainable params: 368,398\n",
            "Non-trainable params: 0\n",
            "----------------------------------------------------------------\n",
            "Input size (MB): 0.26\n",
            "Forward/backward pass size (MB): 12.53\n",
            "Params size (MB): 1.41\n",
            "Estimated Total Size (MB): 14.19\n",
            "----------------------------------------------------------------\n"
          ]
        }
      ]
    },
    {
      "cell_type": "code",
      "source": [
        "import pandas as pd\n",
        "import numpy as np\n",
        "import pylab as pl\n",
        "from sklearn.metrics import roc_curve, auc"
      ],
      "metadata": {
        "id": "n7lfxZfruuIg"
      },
      "execution_count": 42,
      "outputs": []
    },
    {
      "cell_type": "code",
      "source": [
        "df = pd.read_csv('filename.csv')\n",
        "\n",
        "y_test = np.array(df)[:,0]\n",
        "probas = np.array(df)[:,1]\n",
        "\n",
        "# Compute ROC curve and area the curve\n",
        "fpr, tpr, thresholds = roc_curve(y_test, probas)\n",
        "roc_auc = auc(fpr, tpr)\n",
        "print(\"Area under the ROC curve : %f\" % roc_auc)"
      ],
      "metadata": {
        "id": "f_jyVJndu5hO",
        "colab": {
          "base_uri": "https://localhost:8080/"
        },
        "outputId": "69edc612-3f2a-4b69-efcb-8ae528709c05"
      },
      "execution_count": 43,
      "outputs": [
        {
          "output_type": "stream",
          "name": "stdout",
          "text": [
            "Area under the ROC curve : 0.620000\n"
          ]
        }
      ]
    },
    {
      "cell_type": "code",
      "source": [
        "# Plot ROC curve\n",
        "pl.clf()\n",
        "pl.plot(fpr, tpr, label='ROC curve (area = %0.2f)' % roc_auc)\n",
        "pl.plot([0, 1], [0, 1], 'k--')\n",
        "pl.xlim([0.0, 1.0])\n",
        "pl.ylim([0.0, 1.0])\n",
        "pl.xlabel('False Positive Rate')\n",
        "pl.ylabel('True Positive Rate')\n",
        "pl.title('Receiver operating characteristic')\n",
        "pl.legend(loc=\"lower right\")\n",
        "pl.show()"
      ],
      "metadata": {
        "id": "Bw8_Q9fTu890",
        "colab": {
          "base_uri": "https://localhost:8080/",
          "height": 472
        },
        "outputId": "7f5577af-5f09-4d98-be82-a33cb2b871d2"
      },
      "execution_count": 44,
      "outputs": [
        {
          "output_type": "display_data",
          "data": {
            "text/plain": [
              "<Figure size 640x480 with 1 Axes>"
            ],
            "image/png": "[encoded data removed]"
          },
          "metadata": {}
        }
      ]
    },
    {
      "cell_type": "code",
      "source": [
        "import pandas as pd\n",
        "data=pd.read_csv(\"/content/filename.csv\")\n",
        "data.head(10)"
      ],
      "metadata": {
        "id": "58vXrtQAu9h3",
        "colab": {
          "base_uri": "https://localhost:8080/",
          "height": 363
        },
        "outputId": "e4e4c301-b3c0-4d0f-ff95-e3b434172d99"
      },
      "execution_count": 45,
      "outputs": [
        {
          "output_type": "execute_result",
          "data": {
            "text/plain": [
              "   Label  Predict\n",
              "0      1        0\n",
              "1      0        0\n",
              "2      1        1\n",
              "3      0        0\n",
              "4      0        0\n",
              "5      1        1\n",
              "6      1        1\n",
              "7      0        0\n",
              "8      1        1\n",
              "9      0        0"
            ],
            "text/html": [
              "\n",
              "\n",
              "  <div id=\"df-c00f1ba1-a588-4e8c-8016-008868173507\">\n",
              "    <div class=\"colab-df-container\">\n",
              "      <div>\n",
              "<style scoped>\n",
              "    .dataframe tbody tr th:only-of-type {\n",
              "        vertical-align: middle;\n",
              "    }\n",
              "\n",
              "    .dataframe tbody tr th {\n",
              "        vertical-align: top;\n",
              "    }\n",
              "\n",
              "    .dataframe thead th {\n",
              "        text-align: right;\n",
              "    }\n",
              "</style>\n",
              "<table border=\"1\" class=\"dataframe\">\n",
              "  <thead>\n",
              "    <tr style=\"text-align: right;\">\n",
              "      <th></th>\n",
              "      <th>Label</th>\n",
              "      <th>Predict</th>\n",
              "    </tr>\n",
              "  </thead>\n",
              "  <tbody>\n",
              "    <tr>\n",
              "      <th>0</th>\n",
              "      <td>1</td>\n",
              "      <td>0</td>\n",
              "    </tr>\n",
              "    <tr>\n",
              "      <th>1</th>\n",
              "      <td>0</td>\n",
              "      <td>0</td>\n",
              "    </tr>\n",
              "    <tr>\n",
              "      <th>2</th>\n",
              "      <td>1</td>\n",
              "      <td>1</td>\n",
              "    </tr>\n",
              "    <tr>\n",
              "      <th>3</th>\n",
              "      <td>0</td>\n",
              "      <td>0</td>\n",
              "    </tr>\n",
              "    <tr>\n",
              "      <th>4</th>\n",
              "      <td>0</td>\n",
              "      <td>0</td>\n",
              "    </tr>\n",
              "    <tr>\n",
              "      <th>5</th>\n",
              "      <td>1</td>\n",
              "      <td>1</td>\n",
              "    </tr>\n",
              "    <tr>\n",
              "      <th>6</th>\n",
              "      <td>1</td>\n",
              "      <td>1</td>\n",
              "    </tr>\n",
              "    <tr>\n",
              "      <th>7</th>\n",
              "      <td>0</td>\n",
              "      <td>0</td>\n",
              "    </tr>\n",
              "    <tr>\n",
              "      <th>8</th>\n",
              "      <td>1</td>\n",
              "      <td>1</td>\n",
              "    </tr>\n",
              "    <tr>\n",
              "      <th>9</th>\n",
              "      <td>0</td>\n",
              "      <td>0</td>\n",
              "    </tr>\n",
              "  </tbody>\n",
              "</table>\n",
              "</div>\n",
              "      <button class=\"colab-df-convert\" onclick=\"convertToInteractive('df-c00f1ba1-a588-4e8c-8016-008868173507')\"\n",
              "              title=\"Convert this dataframe to an interactive table.\"\n",
              "              style=\"display:none;\">\n",
              "\n",
              "  <svg xmlns=\"http://www.w3.org/2000/svg\" height=\"24px\"viewBox=\"0 0 24 24\"\n",
              "       width=\"24px\">\n",
              "    <path d=\"M0 0h24v24H0V0z\" fill=\"none\"/>\n",
              "    <path d=\"M18.56 5.44l.94 2.06.94-2.06 2.06-.94-2.06-.94-.94-2.06-.94 2.06-2.06.94zm-11 1L8.5 8.5l.94-2.06 2.06-.94-2.06-.94L8.5 2.5l-.94 2.06-2.06.94zm10 10l.94 2.06.94-2.06 2.06-.94-2.06-.94-.94-2.06-.94 2.06-2.06.94z\"/><path d=\"M17.41 7.96l-1.37-1.37c-.4-.4-.92-.59-1.43-.59-.52 0-1.04.2-1.43.59L10.3 9.45l-7.72 7.72c-.78.78-.78 2.05 0 2.83L4 21.41c.39.39.9.59 1.41.59.51 0 1.02-.2 1.41-.59l7.78-7.78 2.81-2.81c.8-.78.8-2.07 0-2.86zM5.41 20L4 18.59l7.72-7.72 1.47 1.35L5.41 20z\"/>\n",
              "  </svg>\n",
              "      </button>\n",
              "\n",
              "\n",
              "\n",
              "    <div id=\"df-5a0f36cb-07cb-4aa9-ae5d-ad1fe565e976\">\n",
              "      <button class=\"colab-df-quickchart\" onclick=\"quickchart('df-5a0f36cb-07cb-4aa9-ae5d-ad1fe565e976')\"\n",
              "              title=\"Suggest charts.\"\n",
              "              style=\"display:none;\">\n",
              "\n",
              "<svg xmlns=\"http://www.w3.org/2000/svg\" height=\"24px\"viewBox=\"0 0 24 24\"\n",
              "     width=\"24px\">\n",
              "    <g>\n",
              "        <path d=\"M19 3H5c-1.1 0-2 .9-2 2v14c0 1.1.9 2 2 2h14c1.1 0 2-.9 2-2V5c0-1.1-.9-2-2-2zM9 17H7v-7h2v7zm4 0h-2V7h2v10zm4 0h-2v-4h2v4z\"/>\n",
              "    </g>\n",
              "</svg>\n",
              "      </button>\n",
              "    </div>\n",
              "\n",
              "<style>\n",
              "  .colab-df-quickchart {\n",
              "    background-color: #E8F0FE;\n",
              "    border: none;\n",
              "    border-radius: 50%;\n",
              "    cursor: pointer;\n",
              "    display: none;\n",
              "    fill: #1967D2;\n",
              "    height: 32px;\n",
              "    padding: 0 0 0 0;\n",
              "    width: 32px;\n",
              "  }\n",
              "\n",
              "  .colab-df-quickchart:hover {\n",
              "    background-color: #E2EBFA;\n",
              "    box-shadow: 0px 1px 2px rgba(60, 64, 67, 0.3), 0px 1px 3px 1px rgba(60, 64, 67, 0.15);\n",
              "    fill: #174EA6;\n",
              "  }\n",
              "\n",
              "  [theme=dark] .colab-df-quickchart {\n",
              "    background-color: #3B4455;\n",
              "    fill: #D2E3FC;\n",
              "  }\n",
              "\n",
              "  [theme=dark] .colab-df-quickchart:hover {\n",
              "    background-color: #434B5C;\n",
              "    box-shadow: 0px 1px 3px 1px rgba(0, 0, 0, 0.15);\n",
              "    filter: drop-shadow(0px 1px 2px rgba(0, 0, 0, 0.3));\n",
              "    fill: #FFFFFF;\n",
              "  }\n",
              "</style>\n",
              "\n",
              "    <script>\n",
              "      async function quickchart(key) {\n",
              "        const containerElement = document.querySelector('#' + key);\n",
              "        const charts = await google.colab.kernel.invokeFunction(\n",
              "            'suggestCharts', [key], {});\n",
              "      }\n",
              "    </script>\n",
              "\n",
              "      <script>\n",
              "\n",
              "function displayQuickchartButton(domScope) {\n",
              "  let quickchartButtonEl =\n",
              "    domScope.querySelector('#df-5a0f36cb-07cb-4aa9-ae5d-ad1fe565e976 button.colab-df-quickchart');\n",
              "  quickchartButtonEl.style.display =\n",
              "    google.colab.kernel.accessAllowed ? 'block' : 'none';\n",
              "}\n",
              "\n",
              "        displayQuickchartButton(document);\n",
              "      </script>\n",
              "      <style>\n",
              "    .colab-df-container {\n",
              "      display:flex;\n",
              "      flex-wrap:wrap;\n",
              "      gap: 12px;\n",
              "    }\n",
              "\n",
              "    .colab-df-convert {\n",
              "      background-color: #E8F0FE;\n",
              "      border: none;\n",
              "      border-radius: 50%;\n",
              "      cursor: pointer;\n",
              "      display: none;\n",
              "      fill: #1967D2;\n",
              "      height: 32px;\n",
              "      padding: 0 0 0 0;\n",
              "      width: 32px;\n",
              "    }\n",
              "\n",
              "    .colab-df-convert:hover {\n",
              "      background-color: #E2EBFA;\n",
              "      box-shadow: 0px 1px 2px rgba(60, 64, 67, 0.3), 0px 1px 3px 1px rgba(60, 64, 67, 0.15);\n",
              "      fill: #174EA6;\n",
              "    }\n",
              "\n",
              "    [theme=dark] .colab-df-convert {\n",
              "      background-color: #3B4455;\n",
              "      fill: #D2E3FC;\n",
              "    }\n",
              "\n",
              "    [theme=dark] .colab-df-convert:hover {\n",
              "      background-color: #434B5C;\n",
              "      box-shadow: 0px 1px 3px 1px rgba(0, 0, 0, 0.15);\n",
              "      filter: drop-shadow(0px 1px 2px rgba(0, 0, 0, 0.3));\n",
              "      fill: #FFFFFF;\n",
              "    }\n",
              "  </style>\n",
              "\n",
              "      <script>\n",
              "        const buttonEl =\n",
              "          document.querySelector('#df-c00f1ba1-a588-4e8c-8016-008868173507 button.colab-df-convert');\n",
              "        buttonEl.style.display =\n",
              "          google.colab.kernel.accessAllowed ? 'block' : 'none';\n",
              "\n",
              "        async function convertToInteractive(key) {\n",
              "          const element = document.querySelector('#df-c00f1ba1-a588-4e8c-8016-008868173507');\n",
              "          const dataTable =\n",
              "            await google.colab.kernel.invokeFunction('convertToInteractive',\n",
              "                                                     [key], {});\n",
              "          if (!dataTable) return;\n",
              "\n",
              "          const docLinkHtml = 'Like what you see? Visit the ' +\n",
              "            '<a target=\"_blank\" href=https://colab.research.google.com/notebooks/data_table.ipynb>data table notebook</a>'\n",
              "            + ' to learn more about interactive tables.';\n",
              "          element.innerHTML = '';\n",
              "          dataTable['output_type'] = 'display_data';\n",
              "          await google.colab.output.renderOutput(dataTable, element);\n",
              "          const docLink = document.createElement('div');\n",
              "          docLink.innerHTML = docLinkHtml;\n",
              "          element.appendChild(docLink);\n",
              "        }\n",
              "      </script>\n",
              "    </div>\n",
              "  </div>\n"
            ]
          },
          "metadata": {},
          "execution_count": 45
        }
      ]
    },
    {
      "cell_type": "code",
      "source": [
        "from sklearn.metrics import confusion_matrix, accuracy_score\n",
        "results = confusion_matrix(data['Label'], data['Predict'])\n",
        "print(results)\n",
        "accuracy_score(data['Label'], data['Predict'])"
      ],
      "metadata": {
        "id": "ukSly2Gmu_tu",
        "colab": {
          "base_uri": "https://localhost:8080/"
        },
        "outputId": "6db108b4-e3db-44a3-a69c-e0e3e120440b"
      },
      "execution_count": 46,
      "outputs": [
        {
          "output_type": "stream",
          "name": "stdout",
          "text": [
            "[[19  6]\n",
            " [13 12]]\n"
          ]
        },
        {
          "output_type": "execute_result",
          "data": {
            "text/plain": [
              "0.62"
            ]
          },
          "metadata": {},
          "execution_count": 46
        }
      ]
    },
    {
      "cell_type": "code",
      "source": [
        "true_neg, false_pos, false_neg, true_pos = results.ravel()\n",
        "true_neg, false_pos, false_neg, true_pos"
      ],
      "metadata": {
        "colab": {
          "base_uri": "https://localhost:8080/"
        },
        "id": "0P8vv8PSxrI6",
        "outputId": "edb862f3-7391-4971-96f7-0b589eae41f3"
      },
      "execution_count": 47,
      "outputs": [
        {
          "output_type": "execute_result",
          "data": {
            "text/plain": [
              "(19, 6, 13, 12)"
            ]
          },
          "metadata": {},
          "execution_count": 47
        }
      ]
    },
    {
      "cell_type": "code",
      "source": [
        "from sklearn.metrics import ConfusionMatrixDisplay\n",
        "cm_display = ConfusionMatrixDisplay(results).plot()"
      ],
      "metadata": {
        "id": "x8OoXeHwvCcL",
        "colab": {
          "base_uri": "https://localhost:8080/",
          "height": 449
        },
        "outputId": "1ef1de9a-0b0f-44ea-d256-8447415550b5"
      },
      "execution_count": 48,
      "outputs": [
        {
          "output_type": "display_data",
          "data": {
            "text/plain": [
              "<Figure size 640x480 with 2 Axes>"
            ],
            "image/png": "[encoded data removed]"
          },
          "metadata": {}
        }
      ]
    }
  ]
}